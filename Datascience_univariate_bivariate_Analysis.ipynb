{
 "cells": [
  {
   "cell_type": "code",
   "execution_count": 192,
   "id": "ee8d2135",
   "metadata": {},
   "outputs": [],
   "source": [
    "import pandas as pd  # importing pandas to analyse Panel or tablur data"
   ]
  },
  {
   "cell_type": "code",
   "execution_count": 193,
   "id": "e463d7c4",
   "metadata": {},
   "outputs": [
    {
     "data": {
      "text/html": [
       "<div>\n",
       "<style scoped>\n",
       "    .dataframe tbody tr th:only-of-type {\n",
       "        vertical-align: middle;\n",
       "    }\n",
       "\n",
       "    .dataframe tbody tr th {\n",
       "        vertical-align: top;\n",
       "    }\n",
       "\n",
       "    .dataframe thead th {\n",
       "        text-align: right;\n",
       "    }\n",
       "</style>\n",
       "<table border=\"1\" class=\"dataframe\">\n",
       "  <thead>\n",
       "    <tr style=\"text-align: right;\">\n",
       "      <th></th>\n",
       "      <th>sl_no</th>\n",
       "      <th>gender</th>\n",
       "      <th>ssc_p</th>\n",
       "      <th>ssc_b</th>\n",
       "      <th>hsc_p</th>\n",
       "      <th>hsc_b</th>\n",
       "      <th>hsc_s</th>\n",
       "      <th>degree_p</th>\n",
       "      <th>degree_t</th>\n",
       "      <th>workex</th>\n",
       "      <th>etest_p</th>\n",
       "      <th>specialisation</th>\n",
       "      <th>mba_p</th>\n",
       "      <th>status</th>\n",
       "      <th>salary</th>\n",
       "    </tr>\n",
       "  </thead>\n",
       "  <tbody>\n",
       "    <tr>\n",
       "      <th>0</th>\n",
       "      <td>1</td>\n",
       "      <td>M</td>\n",
       "      <td>67.00</td>\n",
       "      <td>Others</td>\n",
       "      <td>91.00</td>\n",
       "      <td>Others</td>\n",
       "      <td>Commerce</td>\n",
       "      <td>58.00</td>\n",
       "      <td>Sci&amp;Tech</td>\n",
       "      <td>No</td>\n",
       "      <td>55.0</td>\n",
       "      <td>Mkt&amp;HR</td>\n",
       "      <td>58.80</td>\n",
       "      <td>Placed</td>\n",
       "      <td>270000.0</td>\n",
       "    </tr>\n",
       "    <tr>\n",
       "      <th>1</th>\n",
       "      <td>2</td>\n",
       "      <td>M</td>\n",
       "      <td>79.33</td>\n",
       "      <td>Central</td>\n",
       "      <td>78.33</td>\n",
       "      <td>Others</td>\n",
       "      <td>Science</td>\n",
       "      <td>77.48</td>\n",
       "      <td>Sci&amp;Tech</td>\n",
       "      <td>Yes</td>\n",
       "      <td>86.5</td>\n",
       "      <td>Mkt&amp;Fin</td>\n",
       "      <td>66.28</td>\n",
       "      <td>Placed</td>\n",
       "      <td>200000.0</td>\n",
       "    </tr>\n",
       "    <tr>\n",
       "      <th>2</th>\n",
       "      <td>3</td>\n",
       "      <td>M</td>\n",
       "      <td>65.00</td>\n",
       "      <td>Central</td>\n",
       "      <td>68.00</td>\n",
       "      <td>Central</td>\n",
       "      <td>Arts</td>\n",
       "      <td>64.00</td>\n",
       "      <td>Comm&amp;Mgmt</td>\n",
       "      <td>No</td>\n",
       "      <td>75.0</td>\n",
       "      <td>Mkt&amp;Fin</td>\n",
       "      <td>57.80</td>\n",
       "      <td>Placed</td>\n",
       "      <td>250000.0</td>\n",
       "    </tr>\n",
       "    <tr>\n",
       "      <th>3</th>\n",
       "      <td>4</td>\n",
       "      <td>M</td>\n",
       "      <td>56.00</td>\n",
       "      <td>Central</td>\n",
       "      <td>52.00</td>\n",
       "      <td>Central</td>\n",
       "      <td>Science</td>\n",
       "      <td>52.00</td>\n",
       "      <td>Sci&amp;Tech</td>\n",
       "      <td>No</td>\n",
       "      <td>66.0</td>\n",
       "      <td>Mkt&amp;HR</td>\n",
       "      <td>59.43</td>\n",
       "      <td>Not Placed</td>\n",
       "      <td>NaN</td>\n",
       "    </tr>\n",
       "    <tr>\n",
       "      <th>4</th>\n",
       "      <td>5</td>\n",
       "      <td>M</td>\n",
       "      <td>85.80</td>\n",
       "      <td>Central</td>\n",
       "      <td>73.60</td>\n",
       "      <td>Central</td>\n",
       "      <td>Commerce</td>\n",
       "      <td>73.30</td>\n",
       "      <td>Comm&amp;Mgmt</td>\n",
       "      <td>No</td>\n",
       "      <td>96.8</td>\n",
       "      <td>Mkt&amp;Fin</td>\n",
       "      <td>55.50</td>\n",
       "      <td>Placed</td>\n",
       "      <td>425000.0</td>\n",
       "    </tr>\n",
       "    <tr>\n",
       "      <th>...</th>\n",
       "      <td>...</td>\n",
       "      <td>...</td>\n",
       "      <td>...</td>\n",
       "      <td>...</td>\n",
       "      <td>...</td>\n",
       "      <td>...</td>\n",
       "      <td>...</td>\n",
       "      <td>...</td>\n",
       "      <td>...</td>\n",
       "      <td>...</td>\n",
       "      <td>...</td>\n",
       "      <td>...</td>\n",
       "      <td>...</td>\n",
       "      <td>...</td>\n",
       "      <td>...</td>\n",
       "    </tr>\n",
       "    <tr>\n",
       "      <th>210</th>\n",
       "      <td>211</td>\n",
       "      <td>M</td>\n",
       "      <td>80.60</td>\n",
       "      <td>Others</td>\n",
       "      <td>82.00</td>\n",
       "      <td>Others</td>\n",
       "      <td>Commerce</td>\n",
       "      <td>77.60</td>\n",
       "      <td>Comm&amp;Mgmt</td>\n",
       "      <td>No</td>\n",
       "      <td>91.0</td>\n",
       "      <td>Mkt&amp;Fin</td>\n",
       "      <td>74.49</td>\n",
       "      <td>Placed</td>\n",
       "      <td>400000.0</td>\n",
       "    </tr>\n",
       "    <tr>\n",
       "      <th>211</th>\n",
       "      <td>212</td>\n",
       "      <td>M</td>\n",
       "      <td>58.00</td>\n",
       "      <td>Others</td>\n",
       "      <td>60.00</td>\n",
       "      <td>Others</td>\n",
       "      <td>Science</td>\n",
       "      <td>72.00</td>\n",
       "      <td>Sci&amp;Tech</td>\n",
       "      <td>No</td>\n",
       "      <td>74.0</td>\n",
       "      <td>Mkt&amp;Fin</td>\n",
       "      <td>53.62</td>\n",
       "      <td>Placed</td>\n",
       "      <td>275000.0</td>\n",
       "    </tr>\n",
       "    <tr>\n",
       "      <th>212</th>\n",
       "      <td>213</td>\n",
       "      <td>M</td>\n",
       "      <td>67.00</td>\n",
       "      <td>Others</td>\n",
       "      <td>67.00</td>\n",
       "      <td>Others</td>\n",
       "      <td>Commerce</td>\n",
       "      <td>73.00</td>\n",
       "      <td>Comm&amp;Mgmt</td>\n",
       "      <td>Yes</td>\n",
       "      <td>59.0</td>\n",
       "      <td>Mkt&amp;Fin</td>\n",
       "      <td>69.72</td>\n",
       "      <td>Placed</td>\n",
       "      <td>295000.0</td>\n",
       "    </tr>\n",
       "    <tr>\n",
       "      <th>213</th>\n",
       "      <td>214</td>\n",
       "      <td>F</td>\n",
       "      <td>74.00</td>\n",
       "      <td>Others</td>\n",
       "      <td>66.00</td>\n",
       "      <td>Others</td>\n",
       "      <td>Commerce</td>\n",
       "      <td>58.00</td>\n",
       "      <td>Comm&amp;Mgmt</td>\n",
       "      <td>No</td>\n",
       "      <td>70.0</td>\n",
       "      <td>Mkt&amp;HR</td>\n",
       "      <td>60.23</td>\n",
       "      <td>Placed</td>\n",
       "      <td>204000.0</td>\n",
       "    </tr>\n",
       "    <tr>\n",
       "      <th>214</th>\n",
       "      <td>215</td>\n",
       "      <td>M</td>\n",
       "      <td>62.00</td>\n",
       "      <td>Central</td>\n",
       "      <td>58.00</td>\n",
       "      <td>Others</td>\n",
       "      <td>Science</td>\n",
       "      <td>53.00</td>\n",
       "      <td>Comm&amp;Mgmt</td>\n",
       "      <td>No</td>\n",
       "      <td>89.0</td>\n",
       "      <td>Mkt&amp;HR</td>\n",
       "      <td>60.22</td>\n",
       "      <td>Not Placed</td>\n",
       "      <td>NaN</td>\n",
       "    </tr>\n",
       "  </tbody>\n",
       "</table>\n",
       "<p>215 rows × 15 columns</p>\n",
       "</div>"
      ],
      "text/plain": [
       "     sl_no gender  ssc_p    ssc_b  hsc_p    hsc_b     hsc_s  degree_p  \\\n",
       "0        1      M  67.00   Others  91.00   Others  Commerce     58.00   \n",
       "1        2      M  79.33  Central  78.33   Others   Science     77.48   \n",
       "2        3      M  65.00  Central  68.00  Central      Arts     64.00   \n",
       "3        4      M  56.00  Central  52.00  Central   Science     52.00   \n",
       "4        5      M  85.80  Central  73.60  Central  Commerce     73.30   \n",
       "..     ...    ...    ...      ...    ...      ...       ...       ...   \n",
       "210    211      M  80.60   Others  82.00   Others  Commerce     77.60   \n",
       "211    212      M  58.00   Others  60.00   Others   Science     72.00   \n",
       "212    213      M  67.00   Others  67.00   Others  Commerce     73.00   \n",
       "213    214      F  74.00   Others  66.00   Others  Commerce     58.00   \n",
       "214    215      M  62.00  Central  58.00   Others   Science     53.00   \n",
       "\n",
       "      degree_t workex  etest_p specialisation  mba_p      status    salary  \n",
       "0     Sci&Tech     No     55.0         Mkt&HR  58.80      Placed  270000.0  \n",
       "1     Sci&Tech    Yes     86.5        Mkt&Fin  66.28      Placed  200000.0  \n",
       "2    Comm&Mgmt     No     75.0        Mkt&Fin  57.80      Placed  250000.0  \n",
       "3     Sci&Tech     No     66.0         Mkt&HR  59.43  Not Placed       NaN  \n",
       "4    Comm&Mgmt     No     96.8        Mkt&Fin  55.50      Placed  425000.0  \n",
       "..         ...    ...      ...            ...    ...         ...       ...  \n",
       "210  Comm&Mgmt     No     91.0        Mkt&Fin  74.49      Placed  400000.0  \n",
       "211   Sci&Tech     No     74.0        Mkt&Fin  53.62      Placed  275000.0  \n",
       "212  Comm&Mgmt    Yes     59.0        Mkt&Fin  69.72      Placed  295000.0  \n",
       "213  Comm&Mgmt     No     70.0         Mkt&HR  60.23      Placed  204000.0  \n",
       "214  Comm&Mgmt     No     89.0         Mkt&HR  60.22  Not Placed       NaN  \n",
       "\n",
       "[215 rows x 15 columns]"
      ]
     },
     "execution_count": 193,
     "metadata": {},
     "output_type": "execute_result"
    }
   ],
   "source": [
    "dataset = pd.read_csv(\"Placement.csv\")\n",
    "dataset"
   ]
  },
  {
   "cell_type": "code",
   "execution_count": 194,
   "id": "05ff3eba",
   "metadata": {},
   "outputs": [],
   "source": [
    "dataset.drop(\"sl_no\",inplace=True,axis=1) # Since Sl_no doesn't give any valid info, hence dropping it from table"
   ]
  },
  {
   "cell_type": "code",
   "execution_count": 195,
   "id": "cc4754dc",
   "metadata": {},
   "outputs": [
    {
     "data": {
      "text/plain": [
       "gender             0\n",
       "ssc_p              0\n",
       "ssc_b              0\n",
       "hsc_p              0\n",
       "hsc_b              0\n",
       "hsc_s              0\n",
       "degree_p           0\n",
       "degree_t           0\n",
       "workex             0\n",
       "etest_p            0\n",
       "specialisation     0\n",
       "mba_p              0\n",
       "status             0\n",
       "salary            67\n",
       "dtype: int64"
      ]
     },
     "execution_count": 195,
     "metadata": {},
     "output_type": "execute_result"
    }
   ],
   "source": [
    "dataset.isnull().sum() # Checking if Null value present in the dataset - only Salary has Null "
   ]
  },
  {
   "cell_type": "markdown",
   "id": "0eaea7c6",
   "metadata": {},
   "source": [
    "### <font color = 'Red'> 1. Replace the NaN values with correct value. And justify why you have chosen the same.<font/>"
   ]
  },
  {
   "cell_type": "markdown",
   "id": "ee6ce485",
   "metadata": {},
   "source": [
    " If you look at the dataset of Status and Salary, if \"Not placed\" then the student not getting salary. Hence we can replace   with '0' which makes the column quantitative, meaningful and remove NaN value.\n",
    " \n",
    " A) Replace with CT (Mean, median, Mode) won't be an optimal solution as it may give some number for the students \"Not  \n",
    "     placed\".\n",
    " \n",
    " B) Since we have 67 odd students records, hence deleting will loose the potential students records whoever \"Not placed\"\n",
    " \n",
    " C) Considering as Semi supervised learning and predict Salary based on X variables will again be part of A condition."
   ]
  },
  {
   "cell_type": "code",
   "execution_count": 196,
   "id": "131bf75d",
   "metadata": {},
   "outputs": [],
   "source": [
    "dataset[\"salary\"].fillna(0,inplace=True)  # Replacing NaN with 0's "
   ]
  },
  {
   "cell_type": "code",
   "execution_count": 197,
   "id": "b5c8c192",
   "metadata": {},
   "outputs": [
    {
     "data": {
      "text/plain": [
       "gender            0\n",
       "ssc_p             0\n",
       "ssc_b             0\n",
       "hsc_p             0\n",
       "hsc_b             0\n",
       "hsc_s             0\n",
       "degree_p          0\n",
       "degree_t          0\n",
       "workex            0\n",
       "etest_p           0\n",
       "specialisation    0\n",
       "mba_p             0\n",
       "status            0\n",
       "salary            0\n",
       "dtype: int64"
      ]
     },
     "execution_count": 197,
     "metadata": {},
     "output_type": "execute_result"
    }
   ],
   "source": [
    "dataset.isnull().sum() # now check if Null present in the table"
   ]
  },
  {
   "cell_type": "markdown",
   "id": "2d201770",
   "metadata": {},
   "source": [
    "### <font color = 'Red'> 2) How many of them are not placed? <font/>"
   ]
  },
  {
   "cell_type": "markdown",
   "id": "4f18c9ec",
   "metadata": {},
   "source": [
    "    67 Studends haven't placed"
   ]
  },
  {
   "cell_type": "code",
   "execution_count": 198,
   "id": "7029f2e2",
   "metadata": {},
   "outputs": [
    {
     "data": {
      "text/plain": [
       "status\n",
       "False    148\n",
       "True      67\n",
       "Name: count, dtype: int64"
      ]
     },
     "execution_count": 198,
     "metadata": {},
     "output_type": "execute_result"
    }
   ],
   "source": [
    "#dataset[\"status\"].value_counts()\n",
    "a = dataset[\"status\"] == \"Not Placed\"\n",
    "a.value_counts()"
   ]
  },
  {
   "cell_type": "markdown",
   "id": "d910f763",
   "metadata": {},
   "source": [
    "### <font color = 'Red'> 3) Find the reason for non placement from the dataset?<font/>"
   ]
  },
  {
   "attachments": {
    "image.png": {
     "image/png": "[encoded data removed]"
    }
   },
   "cell_type": "markdown",
   "id": "68185490",
   "metadata": {},
   "source": [
    "###### The reason behind student not placed from the dataset are as follows\n",
    "\n",
    "-->  Student whoever obtained marks between 56 to 65 (from ssc_p to Mba_p) not being placed, hence the students score less        than 65 (from ssc_p to Mba_p) may not be a potential interest for the recruiters.  \n",
    "    \n",
    "-->  Even first Quartile (i.e., Q1:25%) says the same i.e., between 57 to 60 (from ssc_p to Mba_p) not being placed.\n",
    "\n",
    "-->  Minimam passed mark students also may not be attracted by Recuirters which is between 40 to 51 (from ssc_p to Mba_p)\n",
    "\n",
    "\n",
    "![image.png](attachment:image.png)"
   ]
  },
  {
   "cell_type": "code",
   "execution_count": 199,
   "id": "7b403837",
   "metadata": {},
   "outputs": [
    {
     "data": {
      "text/html": [
       "<div>\n",
       "<style scoped>\n",
       "    .dataframe tbody tr th:only-of-type {\n",
       "        vertical-align: middle;\n",
       "    }\n",
       "\n",
       "    .dataframe tbody tr th {\n",
       "        vertical-align: top;\n",
       "    }\n",
       "\n",
       "    .dataframe thead th {\n",
       "        text-align: right;\n",
       "    }\n",
       "</style>\n",
       "<table border=\"1\" class=\"dataframe\">\n",
       "  <thead>\n",
       "    <tr style=\"text-align: right;\">\n",
       "      <th></th>\n",
       "      <th>ssc_p</th>\n",
       "      <th>hsc_p</th>\n",
       "      <th>degree_p</th>\n",
       "      <th>etest_p</th>\n",
       "      <th>mba_p</th>\n",
       "      <th>salary</th>\n",
       "    </tr>\n",
       "  </thead>\n",
       "  <tbody>\n",
       "    <tr>\n",
       "      <th>count</th>\n",
       "      <td>215.000000</td>\n",
       "      <td>215.000000</td>\n",
       "      <td>215.000000</td>\n",
       "      <td>215.000000</td>\n",
       "      <td>215.000000</td>\n",
       "      <td>215.000000</td>\n",
       "    </tr>\n",
       "    <tr>\n",
       "      <th>mean</th>\n",
       "      <td>67.303395</td>\n",
       "      <td>66.333163</td>\n",
       "      <td>66.370186</td>\n",
       "      <td>72.100558</td>\n",
       "      <td>62.278186</td>\n",
       "      <td>198702.325581</td>\n",
       "    </tr>\n",
       "    <tr>\n",
       "      <th>std</th>\n",
       "      <td>10.827205</td>\n",
       "      <td>10.897509</td>\n",
       "      <td>7.358743</td>\n",
       "      <td>13.275956</td>\n",
       "      <td>5.833385</td>\n",
       "      <td>154780.926716</td>\n",
       "    </tr>\n",
       "    <tr>\n",
       "      <th>min</th>\n",
       "      <td>40.890000</td>\n",
       "      <td>37.000000</td>\n",
       "      <td>50.000000</td>\n",
       "      <td>50.000000</td>\n",
       "      <td>51.210000</td>\n",
       "      <td>0.000000</td>\n",
       "    </tr>\n",
       "    <tr>\n",
       "      <th>25%</th>\n",
       "      <td>60.600000</td>\n",
       "      <td>60.900000</td>\n",
       "      <td>61.000000</td>\n",
       "      <td>60.000000</td>\n",
       "      <td>57.945000</td>\n",
       "      <td>0.000000</td>\n",
       "    </tr>\n",
       "    <tr>\n",
       "      <th>50%</th>\n",
       "      <td>67.000000</td>\n",
       "      <td>65.000000</td>\n",
       "      <td>66.000000</td>\n",
       "      <td>71.000000</td>\n",
       "      <td>62.000000</td>\n",
       "      <td>240000.000000</td>\n",
       "    </tr>\n",
       "    <tr>\n",
       "      <th>75%</th>\n",
       "      <td>75.700000</td>\n",
       "      <td>73.000000</td>\n",
       "      <td>72.000000</td>\n",
       "      <td>83.500000</td>\n",
       "      <td>66.255000</td>\n",
       "      <td>282500.000000</td>\n",
       "    </tr>\n",
       "    <tr>\n",
       "      <th>max</th>\n",
       "      <td>89.400000</td>\n",
       "      <td>97.700000</td>\n",
       "      <td>91.000000</td>\n",
       "      <td>98.000000</td>\n",
       "      <td>77.890000</td>\n",
       "      <td>940000.000000</td>\n",
       "    </tr>\n",
       "  </tbody>\n",
       "</table>\n",
       "</div>"
      ],
      "text/plain": [
       "            ssc_p       hsc_p    degree_p     etest_p       mba_p  \\\n",
       "count  215.000000  215.000000  215.000000  215.000000  215.000000   \n",
       "mean    67.303395   66.333163   66.370186   72.100558   62.278186   \n",
       "std     10.827205   10.897509    7.358743   13.275956    5.833385   \n",
       "min     40.890000   37.000000   50.000000   50.000000   51.210000   \n",
       "25%     60.600000   60.900000   61.000000   60.000000   57.945000   \n",
       "50%     67.000000   65.000000   66.000000   71.000000   62.000000   \n",
       "75%     75.700000   73.000000   72.000000   83.500000   66.255000   \n",
       "max     89.400000   97.700000   91.000000   98.000000   77.890000   \n",
       "\n",
       "              salary  \n",
       "count     215.000000  \n",
       "mean   198702.325581  \n",
       "std    154780.926716  \n",
       "min         0.000000  \n",
       "25%         0.000000  \n",
       "50%    240000.000000  \n",
       "75%    282500.000000  \n",
       "max    940000.000000  "
      ]
     },
     "execution_count": 199,
     "metadata": {},
     "output_type": "execute_result"
    }
   ],
   "source": [
    "dataset.describe() # Querying existing table and couldn't found median, mode, outlier, hence create a custom dataframe"
   ]
  },
  {
   "cell_type": "code",
   "execution_count": 200,
   "id": "5cbc839c",
   "metadata": {},
   "outputs": [],
   "source": [
    "import numpy as np  # download numerical python lib to find percentile for Q1,Q2,Q3"
   ]
  },
  {
   "cell_type": "code",
   "execution_count": 201,
   "id": "594e4aef",
   "metadata": {},
   "outputs": [
    {
     "data": {
      "text/html": [
       "<div>\n",
       "<style scoped>\n",
       "    .dataframe tbody tr th:only-of-type {\n",
       "        vertical-align: middle;\n",
       "    }\n",
       "\n",
       "    .dataframe tbody tr th {\n",
       "        vertical-align: top;\n",
       "    }\n",
       "\n",
       "    .dataframe thead th {\n",
       "        text-align: right;\n",
       "    }\n",
       "</style>\n",
       "<table border=\"1\" class=\"dataframe\">\n",
       "  <thead>\n",
       "    <tr style=\"text-align: right;\">\n",
       "      <th></th>\n",
       "      <th>ssc_p</th>\n",
       "      <th>hsc_p</th>\n",
       "      <th>degree_p</th>\n",
       "      <th>etest_p</th>\n",
       "      <th>mba_p</th>\n",
       "      <th>salary</th>\n",
       "    </tr>\n",
       "  </thead>\n",
       "  <tbody>\n",
       "    <tr>\n",
       "      <th>Mean</th>\n",
       "      <td>67.303395</td>\n",
       "      <td>66.333163</td>\n",
       "      <td>66.370186</td>\n",
       "      <td>72.100558</td>\n",
       "      <td>62.278186</td>\n",
       "      <td>198702.325581</td>\n",
       "    </tr>\n",
       "    <tr>\n",
       "      <th>Median</th>\n",
       "      <td>67.0</td>\n",
       "      <td>65.0</td>\n",
       "      <td>66.0</td>\n",
       "      <td>71.0</td>\n",
       "      <td>62.0</td>\n",
       "      <td>240000.0</td>\n",
       "    </tr>\n",
       "    <tr>\n",
       "      <th>Mode</th>\n",
       "      <td>62.0</td>\n",
       "      <td>63.0</td>\n",
       "      <td>65.0</td>\n",
       "      <td>60.0</td>\n",
       "      <td>56.7</td>\n",
       "      <td>0.0</td>\n",
       "    </tr>\n",
       "    <tr>\n",
       "      <th>Q1:25%</th>\n",
       "      <td>60.6</td>\n",
       "      <td>60.9</td>\n",
       "      <td>61.0</td>\n",
       "      <td>60.0</td>\n",
       "      <td>57.945</td>\n",
       "      <td>0.0</td>\n",
       "    </tr>\n",
       "    <tr>\n",
       "      <th>Q2:50%</th>\n",
       "      <td>67.0</td>\n",
       "      <td>65.0</td>\n",
       "      <td>66.0</td>\n",
       "      <td>71.0</td>\n",
       "      <td>62.0</td>\n",
       "      <td>240000.0</td>\n",
       "    </tr>\n",
       "    <tr>\n",
       "      <th>Q3:75%</th>\n",
       "      <td>75.7</td>\n",
       "      <td>73.0</td>\n",
       "      <td>72.0</td>\n",
       "      <td>83.5</td>\n",
       "      <td>66.255</td>\n",
       "      <td>282500.0</td>\n",
       "    </tr>\n",
       "    <tr>\n",
       "      <th>Min</th>\n",
       "      <td>40.89</td>\n",
       "      <td>37.0</td>\n",
       "      <td>50.0</td>\n",
       "      <td>50.0</td>\n",
       "      <td>51.21</td>\n",
       "      <td>0.0</td>\n",
       "    </tr>\n",
       "    <tr>\n",
       "      <th>Max</th>\n",
       "      <td>89.4</td>\n",
       "      <td>97.7</td>\n",
       "      <td>91.0</td>\n",
       "      <td>98.0</td>\n",
       "      <td>77.89</td>\n",
       "      <td>940000.0</td>\n",
       "    </tr>\n",
       "    <tr>\n",
       "      <th>IQR</th>\n",
       "      <td>15.1</td>\n",
       "      <td>12.1</td>\n",
       "      <td>11.0</td>\n",
       "      <td>23.5</td>\n",
       "      <td>8.31</td>\n",
       "      <td>282500.0</td>\n",
       "    </tr>\n",
       "    <tr>\n",
       "      <th>1.5 R</th>\n",
       "      <td>22.65</td>\n",
       "      <td>18.15</td>\n",
       "      <td>16.5</td>\n",
       "      <td>35.25</td>\n",
       "      <td>12.465</td>\n",
       "      <td>423750.0</td>\n",
       "    </tr>\n",
       "    <tr>\n",
       "      <th>Lesser</th>\n",
       "      <td>37.95</td>\n",
       "      <td>42.75</td>\n",
       "      <td>44.5</td>\n",
       "      <td>24.75</td>\n",
       "      <td>45.48</td>\n",
       "      <td>-423750.0</td>\n",
       "    </tr>\n",
       "    <tr>\n",
       "      <th>Greater</th>\n",
       "      <td>98.35</td>\n",
       "      <td>91.15</td>\n",
       "      <td>88.5</td>\n",
       "      <td>118.75</td>\n",
       "      <td>78.72</td>\n",
       "      <td>706250.0</td>\n",
       "    </tr>\n",
       "  </tbody>\n",
       "</table>\n",
       "</div>"
      ],
      "text/plain": [
       "             ssc_p      hsc_p   degree_p    etest_p      mba_p         salary\n",
       "Mean     67.303395  66.333163  66.370186  72.100558  62.278186  198702.325581\n",
       "Median        67.0       65.0       66.0       71.0       62.0       240000.0\n",
       "Mode          62.0       63.0       65.0       60.0       56.7            0.0\n",
       "Q1:25%        60.6       60.9       61.0       60.0     57.945            0.0\n",
       "Q2:50%        67.0       65.0       66.0       71.0       62.0       240000.0\n",
       "Q3:75%        75.7       73.0       72.0       83.5     66.255       282500.0\n",
       "Min          40.89       37.0       50.0       50.0      51.21            0.0\n",
       "Max           89.4       97.7       91.0       98.0      77.89       940000.0\n",
       "IQR           15.1       12.1       11.0       23.5       8.31       282500.0\n",
       "1.5 R        22.65      18.15       16.5      35.25     12.465       423750.0\n",
       "Lesser       37.95      42.75       44.5      24.75      45.48      -423750.0\n",
       "Greater      98.35      91.15       88.5     118.75      78.72       706250.0"
      ]
     },
     "execution_count": 201,
     "metadata": {},
     "output_type": "execute_result"
    }
   ],
   "source": [
    "\n",
    "uni_table = pd.DataFrame(index=[\"Mean\",\"Median\",\"Mode\",\"Q1:25%\",\"Q2:50%\",\"Q3:75%\",\"Min\",\"Max\",\"IQR\",\"1.5 R\",\"Lesser\",\"Greater\"],columns=Quan)\n",
    "\n",
    "for columnName in Quan:\n",
    "    uni_table[columnName][\"Mean\"] = dataset[columnName].mean()\n",
    "    uni_table[columnName][\"Median\"] = dataset[columnName].median()\n",
    "    uni_table[columnName][\"Mode\"] = dataset[columnName].mode()[0]\n",
    "    uni_table[columnName][\"Q1:25%\"] = np.percentile(dataset[columnName],25)\n",
    "    uni_table[columnName][\"Q2:50%\"] = np.percentile(dataset[columnName],50)\n",
    "    uni_table[columnName][\"Q3:75%\"] = np.percentile(dataset[columnName],75)\n",
    "    uni_table[columnName][\"Min\"] = dataset[columnName].min()\n",
    "    uni_table[columnName][\"Max\"] = dataset[columnName].max()\n",
    "    uni_table[columnName][\"IQR\"] = uni_table[columnName][\"Q3:75%\"] - uni_table[columnName][\"Q1:25%\"]\n",
    "    uni_table[columnName][\"1.5 R\"] = uni_table[columnName][\"IQR\"]*1.5\n",
    "    uni_table[columnName][\"Lesser\"] = uni_table[columnName][\"Q1:25%\"] - uni_table[columnName][\"1.5 R\"]\n",
    "    uni_table[columnName][\"Greater\"] = uni_table[columnName][\"Q3:75%\"] + uni_table[columnName][\"1.5 R\"]\n",
    "uni_table"
   ]
  },
  {
   "cell_type": "code",
   "execution_count": 202,
   "id": "2903c859",
   "metadata": {},
   "outputs": [],
   "source": [
    "Lesser = []\n",
    "Greater = []\n",
    "for columnName in uni_table:\n",
    "    if uni_table[columnName][\"Min\"] < uni_table[columnName][\"Lesser\"]:\n",
    "        Lesser.append(columnName)\n",
    "    if uni_table[columnName][\"Max\"] > uni_table[columnName][\"Greater\"]:\n",
    "        Greater.append(columnName)"
   ]
  },
  {
   "cell_type": "code",
   "execution_count": 203,
   "id": "9e791726",
   "metadata": {},
   "outputs": [
    {
     "data": {
      "text/plain": [
       "['hsc_p']"
      ]
     },
     "execution_count": 203,
     "metadata": {},
     "output_type": "execute_result"
    }
   ],
   "source": [
    "Lesser"
   ]
  },
  {
   "cell_type": "code",
   "execution_count": 204,
   "id": "ef0b3820",
   "metadata": {},
   "outputs": [
    {
     "data": {
      "text/plain": [
       "['hsc_p', 'degree_p', 'salary']"
      ]
     },
     "execution_count": 204,
     "metadata": {},
     "output_type": "execute_result"
    }
   ],
   "source": [
    "Greater"
   ]
  },
  {
   "cell_type": "code",
   "execution_count": 205,
   "id": "e56dc759",
   "metadata": {},
   "outputs": [
    {
     "name": "stderr",
     "output_type": "stream",
     "text": [
      "C:\\Users\\YAS\\AppData\\Local\\Temp\\ipykernel_6056\\841300226.py:2: SettingWithCopyWarning: \n",
      "A value is trying to be set on a copy of a slice from a DataFrame\n",
      "\n",
      "See the caveats in the documentation: https://pandas.pydata.org/pandas-docs/stable/user_guide/indexing.html#returning-a-view-versus-a-copy\n",
      "  dataset[columnName][dataset[columnName] < uni_table[columnName][\"Lesser\"]] = uni_table[columnName][\"Lesser\"]\n",
      "C:\\Users\\YAS\\AppData\\Local\\Temp\\ipykernel_6056\\841300226.py:4: SettingWithCopyWarning: \n",
      "A value is trying to be set on a copy of a slice from a DataFrame\n",
      "\n",
      "See the caveats in the documentation: https://pandas.pydata.org/pandas-docs/stable/user_guide/indexing.html#returning-a-view-versus-a-copy\n",
      "  dataset[columnName][dataset[columnName] > uni_table[columnName][\"Greater\"]] = uni_table[columnName][\"Greater\"]\n",
      "C:\\Users\\YAS\\AppData\\Local\\Temp\\ipykernel_6056\\841300226.py:4: SettingWithCopyWarning: \n",
      "A value is trying to be set on a copy of a slice from a DataFrame\n",
      "\n",
      "See the caveats in the documentation: https://pandas.pydata.org/pandas-docs/stable/user_guide/indexing.html#returning-a-view-versus-a-copy\n",
      "  dataset[columnName][dataset[columnName] > uni_table[columnName][\"Greater\"]] = uni_table[columnName][\"Greater\"]\n",
      "C:\\Users\\YAS\\AppData\\Local\\Temp\\ipykernel_6056\\841300226.py:4: SettingWithCopyWarning: \n",
      "A value is trying to be set on a copy of a slice from a DataFrame\n",
      "\n",
      "See the caveats in the documentation: https://pandas.pydata.org/pandas-docs/stable/user_guide/indexing.html#returning-a-view-versus-a-copy\n",
      "  dataset[columnName][dataset[columnName] > uni_table[columnName][\"Greater\"]] = uni_table[columnName][\"Greater\"]\n"
     ]
    }
   ],
   "source": [
    "for columnName in Lesser:\n",
    "    dataset[columnName][dataset[columnName] < uni_table[columnName][\"Lesser\"]] = uni_table[columnName][\"Lesser\"] \n",
    "for columnName in Greater:\n",
    "    dataset[columnName][dataset[columnName] > uni_table[columnName][\"Greater\"]] = uni_table[columnName][\"Greater\"] "
   ]
  },
  {
   "cell_type": "code",
   "execution_count": 206,
   "id": "ca87b423",
   "metadata": {},
   "outputs": [
    {
     "data": {
      "text/html": [
       "<div>\n",
       "<style scoped>\n",
       "    .dataframe tbody tr th:only-of-type {\n",
       "        vertical-align: middle;\n",
       "    }\n",
       "\n",
       "    .dataframe tbody tr th {\n",
       "        vertical-align: top;\n",
       "    }\n",
       "\n",
       "    .dataframe thead th {\n",
       "        text-align: right;\n",
       "    }\n",
       "</style>\n",
       "<table border=\"1\" class=\"dataframe\">\n",
       "  <thead>\n",
       "    <tr style=\"text-align: right;\">\n",
       "      <th></th>\n",
       "      <th>ssc_p</th>\n",
       "      <th>hsc_p</th>\n",
       "      <th>degree_p</th>\n",
       "      <th>etest_p</th>\n",
       "      <th>mba_p</th>\n",
       "      <th>salary</th>\n",
       "    </tr>\n",
       "  </thead>\n",
       "  <tbody>\n",
       "    <tr>\n",
       "      <th>Mean</th>\n",
       "      <td>67.303395</td>\n",
       "      <td>66.334744</td>\n",
       "      <td>66.358558</td>\n",
       "      <td>72.100558</td>\n",
       "      <td>62.278186</td>\n",
       "      <td>197615.116279</td>\n",
       "    </tr>\n",
       "    <tr>\n",
       "      <th>Median</th>\n",
       "      <td>67.0</td>\n",
       "      <td>65.0</td>\n",
       "      <td>66.0</td>\n",
       "      <td>71.0</td>\n",
       "      <td>62.0</td>\n",
       "      <td>240000.0</td>\n",
       "    </tr>\n",
       "    <tr>\n",
       "      <th>Mode</th>\n",
       "      <td>62.0</td>\n",
       "      <td>63.0</td>\n",
       "      <td>65.0</td>\n",
       "      <td>60.0</td>\n",
       "      <td>56.7</td>\n",
       "      <td>0.0</td>\n",
       "    </tr>\n",
       "    <tr>\n",
       "      <th>25%</th>\n",
       "      <td>60.6</td>\n",
       "      <td>60.9</td>\n",
       "      <td>61.0</td>\n",
       "      <td>60.0</td>\n",
       "      <td>57.945</td>\n",
       "      <td>0.0</td>\n",
       "    </tr>\n",
       "    <tr>\n",
       "      <th>50%</th>\n",
       "      <td>67.0</td>\n",
       "      <td>65.0</td>\n",
       "      <td>66.0</td>\n",
       "      <td>71.0</td>\n",
       "      <td>62.0</td>\n",
       "      <td>240000.0</td>\n",
       "    </tr>\n",
       "    <tr>\n",
       "      <th>75%</th>\n",
       "      <td>75.7</td>\n",
       "      <td>73.0</td>\n",
       "      <td>72.0</td>\n",
       "      <td>83.5</td>\n",
       "      <td>66.255</td>\n",
       "      <td>282500.0</td>\n",
       "    </tr>\n",
       "    <tr>\n",
       "      <th>Min</th>\n",
       "      <td>40.89</td>\n",
       "      <td>42.75</td>\n",
       "      <td>50.0</td>\n",
       "      <td>50.0</td>\n",
       "      <td>51.21</td>\n",
       "      <td>0.0</td>\n",
       "    </tr>\n",
       "    <tr>\n",
       "      <th>Max</th>\n",
       "      <td>89.4</td>\n",
       "      <td>91.15</td>\n",
       "      <td>88.5</td>\n",
       "      <td>98.0</td>\n",
       "      <td>77.89</td>\n",
       "      <td>706250.0</td>\n",
       "    </tr>\n",
       "    <tr>\n",
       "      <th>IQR</th>\n",
       "      <td>15.1</td>\n",
       "      <td>12.1</td>\n",
       "      <td>11.0</td>\n",
       "      <td>23.5</td>\n",
       "      <td>8.31</td>\n",
       "      <td>282500.0</td>\n",
       "    </tr>\n",
       "    <tr>\n",
       "      <th>1.5 R</th>\n",
       "      <td>22.65</td>\n",
       "      <td>18.15</td>\n",
       "      <td>16.5</td>\n",
       "      <td>35.25</td>\n",
       "      <td>12.465</td>\n",
       "      <td>423750.0</td>\n",
       "    </tr>\n",
       "    <tr>\n",
       "      <th>Lesser</th>\n",
       "      <td>37.95</td>\n",
       "      <td>42.75</td>\n",
       "      <td>44.5</td>\n",
       "      <td>24.75</td>\n",
       "      <td>45.48</td>\n",
       "      <td>-423750.0</td>\n",
       "    </tr>\n",
       "    <tr>\n",
       "      <th>Greater</th>\n",
       "      <td>98.35</td>\n",
       "      <td>91.15</td>\n",
       "      <td>88.5</td>\n",
       "      <td>118.75</td>\n",
       "      <td>78.72</td>\n",
       "      <td>706250.0</td>\n",
       "    </tr>\n",
       "  </tbody>\n",
       "</table>\n",
       "</div>"
      ],
      "text/plain": [
       "             ssc_p      hsc_p   degree_p    etest_p      mba_p         salary\n",
       "Mean     67.303395  66.334744  66.358558  72.100558  62.278186  197615.116279\n",
       "Median        67.0       65.0       66.0       71.0       62.0       240000.0\n",
       "Mode          62.0       63.0       65.0       60.0       56.7            0.0\n",
       "25%           60.6       60.9       61.0       60.0     57.945            0.0\n",
       "50%           67.0       65.0       66.0       71.0       62.0       240000.0\n",
       "75%           75.7       73.0       72.0       83.5     66.255       282500.0\n",
       "Min          40.89      42.75       50.0       50.0      51.21            0.0\n",
       "Max           89.4      91.15       88.5       98.0      77.89       706250.0\n",
       "IQR           15.1       12.1       11.0       23.5       8.31       282500.0\n",
       "1.5 R        22.65      18.15       16.5      35.25     12.465       423750.0\n",
       "Lesser       37.95      42.75       44.5      24.75      45.48      -423750.0\n",
       "Greater      98.35      91.15       88.5     118.75      78.72       706250.0"
      ]
     },
     "execution_count": 206,
     "metadata": {},
     "output_type": "execute_result"
    }
   ],
   "source": [
    "uni_table = pd.DataFrame(index=[\"Mean\",\"Median\",\"Mode\",\"25%\",\"50%\",\"75%\",\"Min\",\"Max\",\"IQR\",\"1.5 R\",\"Lesser\",\"Greater\"],columns=Quan)\n",
    "\n",
    "for columnName in Quan:\n",
    "    uni_table[columnName][\"Mean\"] = dataset[columnName].mean()\n",
    "    uni_table[columnName][\"Median\"] = dataset[columnName].median()\n",
    "    uni_table[columnName][\"Mode\"] = dataset[columnName].mode()[0]\n",
    "    uni_table[columnName][\"25%\"] = np.percentile(dataset[columnName],25)\n",
    "    uni_table[columnName][\"50%\"] = np.percentile(dataset[columnName],50)\n",
    "    uni_table[columnName][\"75%\"] = np.percentile(dataset[columnName],75)\n",
    "    uni_table[columnName][\"Min\"] = dataset[columnName].min()\n",
    "    uni_table[columnName][\"Max\"] = dataset[columnName].max()\n",
    "    uni_table[columnName][\"IQR\"] = uni_table[columnName][\"75%\"] - uni_table[columnName][\"25%\"]\n",
    "    uni_table[columnName][\"1.5 R\"] = uni_table[columnName][\"IQR\"]*1.5\n",
    "    uni_table[columnName][\"Lesser\"] = uni_table[columnName][\"25%\"] - uni_table[columnName][\"1.5 R\"]\n",
    "    uni_table[columnName][\"Greater\"] = uni_table[columnName][\"75%\"] + uni_table[columnName][\"1.5 R\"]\n",
    "uni_table"
   ]
  },
  {
   "cell_type": "code",
   "execution_count": 207,
   "id": "1cc5f2b4",
   "metadata": {},
   "outputs": [],
   "source": [
    "Lesser = []\n",
    "Greater = []\n",
    "for columnName in uni_table:\n",
    "    if uni_table[columnName][\"Min\"] < uni_table[columnName][\"Lesser\"]:\n",
    "        Lesser.append(columnName)\n",
    "    if uni_table[columnName][\"Max\"] > uni_table[columnName][\"Greater\"]:\n",
    "        Greater.append(columnName)"
   ]
  },
  {
   "cell_type": "code",
   "execution_count": 208,
   "id": "0bf26d72",
   "metadata": {},
   "outputs": [
    {
     "data": {
      "text/plain": [
       "[]"
      ]
     },
     "execution_count": 208,
     "metadata": {},
     "output_type": "execute_result"
    }
   ],
   "source": [
    "Lesser"
   ]
  },
  {
   "cell_type": "code",
   "execution_count": 209,
   "id": "4a4ce064",
   "metadata": {},
   "outputs": [
    {
     "data": {
      "text/plain": [
       "[]"
      ]
     },
     "execution_count": 209,
     "metadata": {},
     "output_type": "execute_result"
    }
   ],
   "source": [
    "Greater"
   ]
  },
  {
   "cell_type": "code",
   "execution_count": 210,
   "id": "ac13ef02",
   "metadata": {},
   "outputs": [],
   "source": [
    "def QuanQual():\n",
    "    Quan = []\n",
    "    Qual = []\n",
    "\n",
    "    for columnName in dataset.columns:\n",
    "        if dataset[columnName].dtypes == 'O':\n",
    "            Qual.append(columnName)\n",
    "        else:\n",
    "            Quan.append(columnName)   \n",
    "            \n",
    "    return Quan,Qual"
   ]
  },
  {
   "cell_type": "code",
   "execution_count": 211,
   "id": "b3001c3e",
   "metadata": {},
   "outputs": [
    {
     "data": {
      "text/plain": [
       "(['ssc_p', 'hsc_p', 'degree_p', 'etest_p', 'mba_p', 'salary'],\n",
       " ['gender',\n",
       "  'ssc_b',\n",
       "  'hsc_b',\n",
       "  'hsc_s',\n",
       "  'degree_t',\n",
       "  'workex',\n",
       "  'specialisation',\n",
       "  'status'])"
      ]
     },
     "execution_count": 211,
     "metadata": {},
     "output_type": "execute_result"
    }
   ],
   "source": [
    "Quan,Qual = QuanQual()\n",
    "Quan,Qual"
   ]
  },
  {
   "cell_type": "code",
   "execution_count": 212,
   "id": "85220dfe",
   "metadata": {},
   "outputs": [
    {
     "data": {
      "text/html": [
       "<div>\n",
       "<style scoped>\n",
       "    .dataframe tbody tr th:only-of-type {\n",
       "        vertical-align: middle;\n",
       "    }\n",
       "\n",
       "    .dataframe tbody tr th {\n",
       "        vertical-align: top;\n",
       "    }\n",
       "\n",
       "    .dataframe thead th {\n",
       "        text-align: right;\n",
       "    }\n",
       "</style>\n",
       "<table border=\"1\" class=\"dataframe\">\n",
       "  <thead>\n",
       "    <tr style=\"text-align: right;\">\n",
       "      <th></th>\n",
       "      <th>ssc_p</th>\n",
       "      <th>hsc_p</th>\n",
       "      <th>degree_p</th>\n",
       "      <th>etest_p</th>\n",
       "      <th>mba_p</th>\n",
       "      <th>salary</th>\n",
       "    </tr>\n",
       "  </thead>\n",
       "  <tbody>\n",
       "    <tr>\n",
       "      <th>Mean</th>\n",
       "      <td>67.303395</td>\n",
       "      <td>66.334744</td>\n",
       "      <td>66.358558</td>\n",
       "      <td>72.100558</td>\n",
       "      <td>62.278186</td>\n",
       "      <td>197615.116279</td>\n",
       "    </tr>\n",
       "    <tr>\n",
       "      <th>Median</th>\n",
       "      <td>67.0</td>\n",
       "      <td>65.0</td>\n",
       "      <td>66.0</td>\n",
       "      <td>71.0</td>\n",
       "      <td>62.0</td>\n",
       "      <td>240000.0</td>\n",
       "    </tr>\n",
       "    <tr>\n",
       "      <th>Mode</th>\n",
       "      <td>62.0</td>\n",
       "      <td>63.0</td>\n",
       "      <td>65.0</td>\n",
       "      <td>60.0</td>\n",
       "      <td>56.7</td>\n",
       "      <td>0.0</td>\n",
       "    </tr>\n",
       "    <tr>\n",
       "      <th>25%</th>\n",
       "      <td>60.6</td>\n",
       "      <td>60.9</td>\n",
       "      <td>61.0</td>\n",
       "      <td>60.0</td>\n",
       "      <td>57.945</td>\n",
       "      <td>0.0</td>\n",
       "    </tr>\n",
       "    <tr>\n",
       "      <th>50%</th>\n",
       "      <td>67.0</td>\n",
       "      <td>65.0</td>\n",
       "      <td>66.0</td>\n",
       "      <td>71.0</td>\n",
       "      <td>62.0</td>\n",
       "      <td>240000.0</td>\n",
       "    </tr>\n",
       "    <tr>\n",
       "      <th>75%</th>\n",
       "      <td>75.7</td>\n",
       "      <td>73.0</td>\n",
       "      <td>72.0</td>\n",
       "      <td>83.5</td>\n",
       "      <td>66.255</td>\n",
       "      <td>282500.0</td>\n",
       "    </tr>\n",
       "    <tr>\n",
       "      <th>Min</th>\n",
       "      <td>40.89</td>\n",
       "      <td>42.75</td>\n",
       "      <td>50.0</td>\n",
       "      <td>50.0</td>\n",
       "      <td>51.21</td>\n",
       "      <td>0.0</td>\n",
       "    </tr>\n",
       "    <tr>\n",
       "      <th>Max</th>\n",
       "      <td>89.4</td>\n",
       "      <td>91.15</td>\n",
       "      <td>88.5</td>\n",
       "      <td>98.0</td>\n",
       "      <td>77.89</td>\n",
       "      <td>706250.0</td>\n",
       "    </tr>\n",
       "    <tr>\n",
       "      <th>IQR</th>\n",
       "      <td>15.1</td>\n",
       "      <td>12.1</td>\n",
       "      <td>11.0</td>\n",
       "      <td>23.5</td>\n",
       "      <td>8.31</td>\n",
       "      <td>282500.0</td>\n",
       "    </tr>\n",
       "    <tr>\n",
       "      <th>1.5 R</th>\n",
       "      <td>22.65</td>\n",
       "      <td>18.15</td>\n",
       "      <td>16.5</td>\n",
       "      <td>35.25</td>\n",
       "      <td>12.465</td>\n",
       "      <td>423750.0</td>\n",
       "    </tr>\n",
       "    <tr>\n",
       "      <th>Lesser</th>\n",
       "      <td>37.95</td>\n",
       "      <td>42.75</td>\n",
       "      <td>44.5</td>\n",
       "      <td>24.75</td>\n",
       "      <td>45.48</td>\n",
       "      <td>-423750.0</td>\n",
       "    </tr>\n",
       "    <tr>\n",
       "      <th>Greater</th>\n",
       "      <td>98.35</td>\n",
       "      <td>91.15</td>\n",
       "      <td>88.5</td>\n",
       "      <td>118.75</td>\n",
       "      <td>78.72</td>\n",
       "      <td>706250.0</td>\n",
       "    </tr>\n",
       "    <tr>\n",
       "      <th>Skewness</th>\n",
       "      <td>-0.132649</td>\n",
       "      <td>0.162611</td>\n",
       "      <td>0.204164</td>\n",
       "      <td>0.282308</td>\n",
       "      <td>0.313576</td>\n",
       "      <td>0.125415</td>\n",
       "    </tr>\n",
       "    <tr>\n",
       "      <th>Kurtosis</th>\n",
       "      <td>-0.60751</td>\n",
       "      <td>0.086901</td>\n",
       "      <td>-0.09749</td>\n",
       "      <td>-1.08858</td>\n",
       "      <td>-0.470723</td>\n",
       "      <td>0.025787</td>\n",
       "    </tr>\n",
       "    <tr>\n",
       "      <th>Variance</th>\n",
       "      <td>117.228377</td>\n",
       "      <td>112.063731</td>\n",
       "      <td>53.60471</td>\n",
       "      <td>176.251018</td>\n",
       "      <td>34.028376</td>\n",
       "      <td>22591846791.458385</td>\n",
       "    </tr>\n",
       "    <tr>\n",
       "      <th>Std-deviation</th>\n",
       "      <td>10.827205</td>\n",
       "      <td>10.586016</td>\n",
       "      <td>7.321524</td>\n",
       "      <td>13.275956</td>\n",
       "      <td>5.833385</td>\n",
       "      <td>150305.844169</td>\n",
       "    </tr>\n",
       "  </tbody>\n",
       "</table>\n",
       "</div>"
      ],
      "text/plain": [
       "                    ssc_p       hsc_p   degree_p     etest_p      mba_p  \\\n",
       "Mean            67.303395   66.334744  66.358558   72.100558  62.278186   \n",
       "Median               67.0        65.0       66.0        71.0       62.0   \n",
       "Mode                 62.0        63.0       65.0        60.0       56.7   \n",
       "25%                  60.6        60.9       61.0        60.0     57.945   \n",
       "50%                  67.0        65.0       66.0        71.0       62.0   \n",
       "75%                  75.7        73.0       72.0        83.5     66.255   \n",
       "Min                 40.89       42.75       50.0        50.0      51.21   \n",
       "Max                  89.4       91.15       88.5        98.0      77.89   \n",
       "IQR                  15.1        12.1       11.0        23.5       8.31   \n",
       "1.5 R               22.65       18.15       16.5       35.25     12.465   \n",
       "Lesser              37.95       42.75       44.5       24.75      45.48   \n",
       "Greater             98.35       91.15       88.5      118.75      78.72   \n",
       "Skewness        -0.132649    0.162611   0.204164    0.282308   0.313576   \n",
       "Kurtosis         -0.60751    0.086901   -0.09749    -1.08858  -0.470723   \n",
       "Variance       117.228377  112.063731   53.60471  176.251018  34.028376   \n",
       "Std-deviation   10.827205   10.586016   7.321524   13.275956   5.833385   \n",
       "\n",
       "                           salary  \n",
       "Mean                197615.116279  \n",
       "Median                   240000.0  \n",
       "Mode                          0.0  \n",
       "25%                           0.0  \n",
       "50%                      240000.0  \n",
       "75%                      282500.0  \n",
       "Min                           0.0  \n",
       "Max                      706250.0  \n",
       "IQR                      282500.0  \n",
       "1.5 R                    423750.0  \n",
       "Lesser                  -423750.0  \n",
       "Greater                  706250.0  \n",
       "Skewness                 0.125415  \n",
       "Kurtosis                 0.025787  \n",
       "Variance       22591846791.458385  \n",
       "Std-deviation       150305.844169  "
      ]
     },
     "execution_count": 212,
     "metadata": {},
     "output_type": "execute_result"
    }
   ],
   "source": [
    " uni_table = pd.DataFrame(index=[\"Mean\",\"Median\",\"Mode\",\"25%\",\"50%\",\"75%\",\"Min\",\"Max\",\"IQR\",\"1.5 R\",\"Lesser\",\n",
    "                                 \"Greater\",\"Skewness\",\"Kurtosis\",\"Variance\",\"Std-deviation\"],columns=Quan)\n",
    "\n",
    "for columnName in Quan:\n",
    "    uni_table[columnName][\"Mean\"] = dataset[columnName].mean()\n",
    "    uni_table[columnName][\"Median\"] = dataset[columnName].median()\n",
    "    uni_table[columnName][\"Mode\"] = dataset[columnName].mode()[0]\n",
    "    uni_table[columnName][\"25%\"] = np.percentile(dataset[columnName],25)\n",
    "    uni_table[columnName][\"50%\"] = np.percentile(dataset[columnName],50)\n",
    "    uni_table[columnName][\"75%\"] = np.percentile(dataset[columnName],75)\n",
    "    uni_table[columnName][\"Min\"] = dataset[columnName].min()\n",
    "    uni_table[columnName][\"Max\"] = dataset[columnName].max()\n",
    "    uni_table[columnName][\"IQR\"] = uni_table[columnName][\"75%\"] - uni_table[columnName][\"25%\"]\n",
    "    uni_table[columnName][\"1.5 R\"] = uni_table[columnName][\"IQR\"]*1.5\n",
    "    uni_table[columnName][\"Lesser\"] = uni_table[columnName][\"25%\"] - uni_table[columnName][\"1.5 R\"]\n",
    "    uni_table[columnName][\"Greater\"] = uni_table[columnName][\"75%\"] + uni_table[columnName][\"1.5 R\"]\n",
    "    uni_table[columnName][\"Skewness\"] = dataset[columnName].skew()\n",
    "    uni_table[columnName][\"Kurtosis\"] = dataset[columnName].kurtosis()\n",
    "    uni_table[columnName][\"Variance\"] = dataset[columnName].var()\n",
    "    uni_table[columnName][\"Std-deviation\"] = dataset[columnName].std()\n",
    "    \n",
    "uni_table"
   ]
  },
  {
   "cell_type": "code",
   "execution_count": 214,
   "id": "c2157e17",
   "metadata": {},
   "outputs": [
    {
     "data": {
      "text/html": [
       "<div>\n",
       "<style scoped>\n",
       "    .dataframe tbody tr th:only-of-type {\n",
       "        vertical-align: middle;\n",
       "    }\n",
       "\n",
       "    .dataframe tbody tr th {\n",
       "        vertical-align: top;\n",
       "    }\n",
       "\n",
       "    .dataframe thead th {\n",
       "        text-align: right;\n",
       "    }\n",
       "</style>\n",
       "<table border=\"1\" class=\"dataframe\">\n",
       "  <thead>\n",
       "    <tr style=\"text-align: right;\">\n",
       "      <th></th>\n",
       "      <th>Unique_Values</th>\n",
       "      <th>Frequency</th>\n",
       "      <th>Relative_Frequency</th>\n",
       "      <th>Cumsum</th>\n",
       "    </tr>\n",
       "  </thead>\n",
       "  <tbody>\n",
       "    <tr>\n",
       "      <th>0</th>\n",
       "      <td>62.00</td>\n",
       "      <td>11</td>\n",
       "      <td>0.106796</td>\n",
       "      <td>0.106796</td>\n",
       "    </tr>\n",
       "    <tr>\n",
       "      <th>1</th>\n",
       "      <td>63.00</td>\n",
       "      <td>10</td>\n",
       "      <td>0.097087</td>\n",
       "      <td>0.203883</td>\n",
       "    </tr>\n",
       "    <tr>\n",
       "      <th>2</th>\n",
       "      <td>67.00</td>\n",
       "      <td>9</td>\n",
       "      <td>0.087379</td>\n",
       "      <td>0.291262</td>\n",
       "    </tr>\n",
       "    <tr>\n",
       "      <th>3</th>\n",
       "      <td>52.00</td>\n",
       "      <td>9</td>\n",
       "      <td>0.087379</td>\n",
       "      <td>0.378641</td>\n",
       "    </tr>\n",
       "    <tr>\n",
       "      <th>4</th>\n",
       "      <td>73.00</td>\n",
       "      <td>9</td>\n",
       "      <td>0.087379</td>\n",
       "      <td>0.466019</td>\n",
       "    </tr>\n",
       "    <tr>\n",
       "      <th>...</th>\n",
       "      <td>...</td>\n",
       "      <td>...</td>\n",
       "      <td>...</td>\n",
       "      <td>...</td>\n",
       "    </tr>\n",
       "    <tr>\n",
       "      <th>98</th>\n",
       "      <td>69.70</td>\n",
       "      <td>1</td>\n",
       "      <td>0.009709</td>\n",
       "      <td>2.048544</td>\n",
       "    </tr>\n",
       "    <tr>\n",
       "      <th>99</th>\n",
       "      <td>80.92</td>\n",
       "      <td>1</td>\n",
       "      <td>0.009709</td>\n",
       "      <td>2.058252</td>\n",
       "    </tr>\n",
       "    <tr>\n",
       "      <th>100</th>\n",
       "      <td>83.00</td>\n",
       "      <td>1</td>\n",
       "      <td>0.009709</td>\n",
       "      <td>2.067961</td>\n",
       "    </tr>\n",
       "    <tr>\n",
       "      <th>101</th>\n",
       "      <td>86.50</td>\n",
       "      <td>1</td>\n",
       "      <td>0.009709</td>\n",
       "      <td>2.077670</td>\n",
       "    </tr>\n",
       "    <tr>\n",
       "      <th>102</th>\n",
       "      <td>80.60</td>\n",
       "      <td>1</td>\n",
       "      <td>0.009709</td>\n",
       "      <td>2.087379</td>\n",
       "    </tr>\n",
       "  </tbody>\n",
       "</table>\n",
       "<p>103 rows × 4 columns</p>\n",
       "</div>"
      ],
      "text/plain": [
       "     Unique_Values  Frequency  Relative_Frequency    Cumsum\n",
       "0            62.00         11            0.106796  0.106796\n",
       "1            63.00         10            0.097087  0.203883\n",
       "2            67.00          9            0.087379  0.291262\n",
       "3            52.00          9            0.087379  0.378641\n",
       "4            73.00          9            0.087379  0.466019\n",
       "..             ...        ...                 ...       ...\n",
       "98           69.70          1            0.009709  2.048544\n",
       "99           80.92          1            0.009709  2.058252\n",
       "100          83.00          1            0.009709  2.067961\n",
       "101          86.50          1            0.009709  2.077670\n",
       "102          80.60          1            0.009709  2.087379\n",
       "\n",
       "[103 rows x 4 columns]"
      ]
     },
     "execution_count": 214,
     "metadata": {},
     "output_type": "execute_result"
    }
   ],
   "source": [
    "# Created a customized dataframe and created new set of cols\n",
    "FreqTable = pd.DataFrame(columns= [\"Unique_Values\",\"Frequency\",\"Relative_Frequency\",\"Cumsum\"])\n",
    "# Unique_Values,Frequency,Relative_Frequency,Cumsum pulled from dataset and mapped to DF\n",
    "FreqTable[\"Unique_Values\"] = dataset[\"ssc_p\"].value_counts().index\n",
    "FreqTable[\"Frequency\"] = dataset[\"ssc_p\"].value_counts().values\n",
    "FreqTable[\"Relative_Frequency\"] = FreqTable[\"Frequency\"]/len(FreqTable[\"Unique_Values\"])\n",
    "FreqTable[\"Cumsum\"] = FreqTable[\"Relative_Frequency\"].cumsum()\n",
    "\n",
    "FreqTable.to_csv(\"Frequency_table.csv\",index = False)\n",
    "FreqTable"
   ]
  },
  {
   "cell_type": "markdown",
   "id": "17c5bedc",
   "metadata": {},
   "source": [
    "###  <font color = 'Red'> 4. What kind of relation between salary and mba_p? <font/>"
   ]
  },
  {
   "cell_type": "markdown",
   "id": "f781eb04",
   "metadata": {},
   "source": [
    "######           14% i would say it is zero correlation (though it slightly +ve but degree of freedom can't exactly say it is +ve corr)"
   ]
  },
  {
   "cell_type": "code",
   "execution_count": 215,
   "id": "9f6ae1c6",
   "metadata": {},
   "outputs": [
    {
     "data": {
      "text/html": [
       "<div>\n",
       "<style scoped>\n",
       "    .dataframe tbody tr th:only-of-type {\n",
       "        vertical-align: middle;\n",
       "    }\n",
       "\n",
       "    .dataframe tbody tr th {\n",
       "        vertical-align: top;\n",
       "    }\n",
       "\n",
       "    .dataframe thead th {\n",
       "        text-align: right;\n",
       "    }\n",
       "</style>\n",
       "<table border=\"1\" class=\"dataframe\">\n",
       "  <thead>\n",
       "    <tr style=\"text-align: right;\">\n",
       "      <th></th>\n",
       "      <th>ssc_p</th>\n",
       "      <th>hsc_p</th>\n",
       "      <th>degree_p</th>\n",
       "      <th>etest_p</th>\n",
       "      <th>mba_p</th>\n",
       "      <th>salary</th>\n",
       "    </tr>\n",
       "  </thead>\n",
       "  <tbody>\n",
       "    <tr>\n",
       "      <th>ssc_p</th>\n",
       "      <td>1.000000</td>\n",
       "      <td>0.513478</td>\n",
       "      <td>0.538686</td>\n",
       "      <td>0.261993</td>\n",
       "      <td>0.388478</td>\n",
       "      <td>0.558475</td>\n",
       "    </tr>\n",
       "    <tr>\n",
       "      <th>hsc_p</th>\n",
       "      <td>0.513478</td>\n",
       "      <td>1.000000</td>\n",
       "      <td>0.434606</td>\n",
       "      <td>0.240775</td>\n",
       "      <td>0.348452</td>\n",
       "      <td>0.459424</td>\n",
       "    </tr>\n",
       "    <tr>\n",
       "      <th>degree_p</th>\n",
       "      <td>0.538686</td>\n",
       "      <td>0.434606</td>\n",
       "      <td>1.000000</td>\n",
       "      <td>0.227147</td>\n",
       "      <td>0.402376</td>\n",
       "      <td>0.423762</td>\n",
       "    </tr>\n",
       "    <tr>\n",
       "      <th>etest_p</th>\n",
       "      <td>0.261993</td>\n",
       "      <td>0.240775</td>\n",
       "      <td>0.227147</td>\n",
       "      <td>1.000000</td>\n",
       "      <td>0.218055</td>\n",
       "      <td>0.186775</td>\n",
       "    </tr>\n",
       "    <tr>\n",
       "      <th>mba_p</th>\n",
       "      <td>0.388478</td>\n",
       "      <td>0.348452</td>\n",
       "      <td>0.402376</td>\n",
       "      <td>0.218055</td>\n",
       "      <td>1.000000</td>\n",
       "      <td>0.141417</td>\n",
       "    </tr>\n",
       "    <tr>\n",
       "      <th>salary</th>\n",
       "      <td>0.558475</td>\n",
       "      <td>0.459424</td>\n",
       "      <td>0.423762</td>\n",
       "      <td>0.186775</td>\n",
       "      <td>0.141417</td>\n",
       "      <td>1.000000</td>\n",
       "    </tr>\n",
       "  </tbody>\n",
       "</table>\n",
       "</div>"
      ],
      "text/plain": [
       "             ssc_p     hsc_p  degree_p   etest_p     mba_p    salary\n",
       "ssc_p     1.000000  0.513478  0.538686  0.261993  0.388478  0.558475\n",
       "hsc_p     0.513478  1.000000  0.434606  0.240775  0.348452  0.459424\n",
       "degree_p  0.538686  0.434606  1.000000  0.227147  0.402376  0.423762\n",
       "etest_p   0.261993  0.240775  0.227147  1.000000  0.218055  0.186775\n",
       "mba_p     0.388478  0.348452  0.402376  0.218055  1.000000  0.141417\n",
       "salary    0.558475  0.459424  0.423762  0.186775  0.141417  1.000000"
      ]
     },
     "execution_count": 215,
     "metadata": {},
     "output_type": "execute_result"
    }
   ],
   "source": [
    "dataset[Quan].corr()   "
   ]
  },
  {
   "cell_type": "markdown",
   "id": "0dec61a7",
   "metadata": {},
   "source": [
    "### <font color = 'Red'> 5. Which specialization is getting minimum salary? <font/>\n"
   ]
  },
  {
   "cell_type": "markdown",
   "id": "24d78918",
   "metadata": {},
   "source": [
    "#####        Both \"Mkt&HR + Mkt&Fin\" minimum salary is 2 Lac (But if replace NaN then there is greater chance to get min of '0' salary"
   ]
  },
  {
   "cell_type": "code",
   "execution_count": 216,
   "id": "27b19d5b",
   "metadata": {},
   "outputs": [
    {
     "name": "stdout",
     "output_type": "stream",
     "text": [
      "0.0\n",
      "0.0\n"
     ]
    }
   ],
   "source": [
    "print(dataset[dataset[\"specialisation\"] == \"Mkt&HR\"][\"salary\"].min())\n",
    "print(dataset[dataset[\"specialisation\"] == \"Mkt&Fin\"][\"salary\"].min())"
   ]
  },
  {
   "cell_type": "markdown",
   "id": "4dbf2dcc",
   "metadata": {},
   "source": [
    "### <font color = 'Red'> 6. How many of them getting above 500000 salary? <font/>"
   ]
  },
  {
   "cell_type": "markdown",
   "id": "40713f1a",
   "metadata": {},
   "source": [
    "  #####             Totally 3 students getting above 5 L Salary"
   ]
  },
  {
   "cell_type": "code",
   "execution_count": 217,
   "id": "110b82a1",
   "metadata": {},
   "outputs": [
    {
     "name": "stdout",
     "output_type": "stream",
     "text": [
      "[706250.0, 690000.0, 650000.0]\n"
     ]
    }
   ],
   "source": [
    "Above5L = []\n",
    "\n",
    "for i in dataset[\"salary\"]:\n",
    "    if (i > 500000.0):\n",
    "        Above5L.append(i)\n",
    "\n",
    "print(Above5L)"
   ]
  },
  {
   "cell_type": "markdown",
   "id": "f2ee3aa4",
   "metadata": {},
   "source": [
    "#### <font color = 'Red'> 7. Test the Analysis of Variance between etest_p and mba_p at signifance level 5%.(Make decision using Hypothesis Testing) <font/>\n",
    "    "
   ]
  },
  {
   "cell_type": "markdown",
   "id": "3ceef767",
   "metadata": {},
   "source": [
    "### Hypothesis Report\n",
    "\n",
    "##### Ho = There is no difference between etest_p, mba_p.                                                                  \n",
    "##### H1 = There is a difference between etest_p, mba_p\n",
    "Reject Null hypthoesis if Pvalue < 0.05%"
   ]
  },
  {
   "cell_type": "markdown",
   "id": "782952ed",
   "metadata": {},
   "source": [
    "Since \"statistic is 98.64\" hence there is significant difference between etest_p, mba_p and pvalue < 0.05% therefore (H0) Null Hypothesis rejected and Accept (H1) Alternate Hypotheis "
   ]
  },
  {
   "cell_type": "code",
   "execution_count": 218,
   "id": "237d1047",
   "metadata": {},
   "outputs": [
    {
     "data": {
      "text/plain": [
       "F_onewayResult(statistic=98.64487057324706, pvalue=4.672547689133573e-21)"
      ]
     },
     "execution_count": 218,
     "metadata": {},
     "output_type": "execute_result"
    }
   ],
   "source": [
    "from scipy.stats import f_oneway\n",
    "f_oneway(dataset[\"etest_p\"],dataset[\"mba_p\"])"
   ]
  },
  {
   "cell_type": "markdown",
   "id": "286bdb00",
   "metadata": {},
   "source": [
    "#### <font color = 'Red'> 8. Test the similarity between the degree_t(Sci&Tech) and specialisation(Mkt&HR) with respect to salary at significance level of 5%.(Make decision using Hypothesis Testing) <font/>\n",
    "\n",
    "### Hypothesis Report\n",
    "\n",
    "#### Ho = There is no similarity between degree_t(Sci&Tech) and specialisation(Mkt&HR) wrt Salary                                                                 \n",
    "#### H1 = There is a similarity between degree_t(Sci&Tech) and specialisation(Mkt&HR) wrt Salary  \n",
    "\n",
    "Reject Null hypthoesis if Pvalue < 0.05%"
   ]
  },
  {
   "cell_type": "markdown",
   "id": "08092913",
   "metadata": {},
   "source": [
    "Since \"statistic is 2.69\" hence there is significant similarity  between degree_t(Sci&Tech) and specialisation(Mkt&HR) wrt Salary and pvalue < 0.05% therefore (H0) Null Hypothesis rejected and Accept (H1) Alternate Hypotheis"
   ]
  },
  {
   "cell_type": "code",
   "execution_count": 219,
   "id": "cb000552",
   "metadata": {},
   "outputs": [
    {
     "data": {
      "text/plain": [
       "TtestResult(statistic=2.692041243555374, pvalue=0.007897969943471179, df=152.0)"
      ]
     },
     "execution_count": 219,
     "metadata": {},
     "output_type": "execute_result"
    }
   ],
   "source": [
    "from scipy.stats import ttest_ind\n",
    "degree_t = dataset[dataset[\"degree_t\"] ==\"Sci&Tech\"] [\"salary\"]\n",
    "specialisation = dataset[dataset[\"specialisation\"] == \"Mkt&HR\"] [\"salary\"]\n",
    "\n",
    "ttest_ind(degree_t,specialisation)"
   ]
  },
  {
   "cell_type": "markdown",
   "id": "ca7de14d",
   "metadata": {},
   "source": [
    "### <font color = 'Red'> 9. Convert the normal distribution to standard normal distribution for salary column <font/>"
   ]
  },
  {
   "cell_type": "code",
   "execution_count": 220,
   "id": "32b8419e",
   "metadata": {},
   "outputs": [
    {
     "name": "stderr",
     "output_type": "stream",
     "text": [
      "C:\\Users\\YAS\\AppData\\Local\\Temp\\ipykernel_6056\\972065751.py:5: UserWarning: \n",
      "\n",
      "`distplot` is a deprecated function and will be removed in seaborn v0.14.0.\n",
      "\n",
      "Please adapt your code to use either `displot` (a figure-level function with\n",
      "similar flexibility) or `histplot` (an axes-level function for histograms).\n",
      "\n",
      "For a guide to updating your code to use the new functions, please see\n",
      "https://gist.github.com/mwaskom/de44147ed2974457ad6372750bbe5751\n",
      "\n",
      "  sns.distplot(dataset,kde=True)\n"
     ]
    },
    {
     "data": {
      "image/png": "[encoded data removed]",
      "text/plain": [
       "<Figure size 640x480 with 1 Axes>"
      ]
     },
     "metadata": {},
     "output_type": "display_data"
    }
   ],
   "source": [
    "#created Normal distribution graph\n",
    "\n",
    "def norm(dataset):\n",
    "    import seaborn as sns\n",
    "    sns.distplot(dataset,kde=True)\n",
    "      \n",
    "norm(dataset[\"ssc_p\"])"
   ]
  },
  {
   "cell_type": "code",
   "execution_count": 222,
   "id": "9ae6a9e5",
   "metadata": {},
   "outputs": [
    {
     "name": "stderr",
     "output_type": "stream",
     "text": [
      "C:\\Users\\YAS\\AppData\\Local\\Temp\\ipykernel_6056\\2261635642.py:12: UserWarning: \n",
      "\n",
      "`distplot` is a deprecated function and will be removed in seaborn v0.14.0.\n",
      "\n",
      "Please adapt your code to use either `displot` (a figure-level function with\n",
      "similar flexibility) or `histplot` (an axes-level function for histograms).\n",
      "\n",
      "For a guide to updating your code to use the new functions, please see\n",
      "https://gist.github.com/mwaskom/de44147ed2974457ad6372750bbe5751\n",
      "\n",
      "  sns.distplot(std_norm_disb,kde=True)\n"
     ]
    },
    {
     "data": {
      "image/png": "[encoded data removed]",
      "text/plain": [
       "<Figure size 640x480 with 1 Axes>"
      ]
     },
     "metadata": {},
     "output_type": "display_data"
    }
   ],
   "source": [
    "#conveting normal disb into standard normal disb, however the bar, line didn't change\n",
    "\n",
    "def std_norm(dataset):\n",
    "    import seaborn as sns\n",
    "\n",
    "    mean = dataset.mean()\n",
    "    std  = dataset.std()\n",
    "\n",
    "    values = [i for i in dataset]\n",
    "    std_norm_disb = [((j-mean)/std) for j in values]\n",
    "\n",
    "    sns.distplot(std_norm_disb,kde=True)\n",
    "    \n",
    "    \n",
    "std_norm(dataset[\"ssc_p\"])"
   ]
  },
  {
   "cell_type": "markdown",
   "id": "fc5c5424",
   "metadata": {},
   "source": [
    "### <font color = 'Red'> 10. What is the probability Density Function of the salary range from 700000 to 900000?<font/>\n",
    "\n",
    "##### probability Density Function between salary range from 700000 to 900000 is 0.0005973310593974901\n"
   ]
  },
  {
   "cell_type": "code",
   "execution_count": 223,
   "id": "c0df2115",
   "metadata": {},
   "outputs": [
    {
     "name": "stderr",
     "output_type": "stream",
     "text": [
      "C:\\Users\\YAS\\AppData\\Local\\Temp\\ipykernel_6056\\3138112401.py:5: UserWarning: \n",
      "\n",
      "`distplot` is a deprecated function and will be removed in seaborn v0.14.0.\n",
      "\n",
      "Please adapt your code to use either `displot` (a figure-level function with\n",
      "similar flexibility) or `histplot` (an axes-level function for histograms).\n",
      "\n",
      "For a guide to updating your code to use the new functions, please see\n",
      "https://gist.github.com/mwaskom/de44147ed2974457ad6372750bbe5751\n",
      "\n",
      "  ax = sns.distplot(dataset,kde=True,kde_kws={'color':'blue'},color='purple')\n"
     ]
    },
    {
     "name": "stdout",
     "output_type": "stream",
     "text": [
      "The calculated mean 197615.11627906977, and std 150305.84416934155\n",
      "The area between range(700000,900000):0.0004137812663830059\n"
     ]
    },
    {
     "data": {
      "text/plain": [
       "0.0004137812663830059"
      ]
     },
     "execution_count": 223,
     "metadata": {},
     "output_type": "execute_result"
    },
    {
     "data": {
      "image/png": "[encoded data removed]",
      "text/plain": [
       "<Figure size 640x480 with 1 Axes>"
      ]
     },
     "metadata": {},
     "output_type": "display_data"
    }
   ],
   "source": [
    "def get_pdf_p(dataset,startrange,endrange):\n",
    "    from matplotlib import pyplot\n",
    "    from scipy.stats import norm\n",
    "    import seaborn as sns\n",
    "    ax = sns.distplot(dataset,kde=True,kde_kws={'color':'blue'},color='purple')\n",
    "    pyplot.axvline(startrange,color='Red')\n",
    "    pyplot.axvline(endrange,color='Red')\n",
    "    \n",
    "    sample = dataset\n",
    "    sample_mean = sample.mean()\n",
    "    sample_std  = sample.std()\n",
    "    #print (\"The calculated mean = %.3f, and std = %.3f\"%(sample_mean,sample_std))\n",
    "    print (\"The calculated mean {}, and std {}\".format(sample_mean,sample_std))\n",
    "    dist = norm(sample_mean, sample_std)\n",
    "    \n",
    "    values = []\n",
    "    for value in range(startrange,endrange):\n",
    "        values.append(value)\n",
    "    \n",
    "    probabilities = []\n",
    "    for value in values:\n",
    "        probabilities.append(dist.pdf(value))\n",
    "        \n",
    "   \n",
    "    prob=sum(probabilities)\n",
    "    print(\"The area between range({},{}):{}\".format(startrange,endrange,sum(probabilities)))\n",
    "    return prob \n",
    "    \n",
    "    \n",
    " \n",
    "get_pdf_p(dataset['salary'],700000,900000)"
   ]
  },
  {
   "cell_type": "markdown",
   "id": "18169d8e",
   "metadata": {},
   "source": [
    "#### <font color = 'Red'>11.Test the similarity between the degree_t(Sci&Tech)with respect to etest_p and mba_p at significance    level of 5%.(Make decision using Hypothesis Testing) <font/>\n"
   ]
  },
  {
   "cell_type": "markdown",
   "id": "b273319b",
   "metadata": {},
   "source": [
    "### Hypothesis Report\n",
    "\n",
    "#### Ho = There is no similarity between degree_t(Sci&Tech) wrt etest_p and mba_p                                                          \n",
    "#### H1 = There is a similarity between degree_t(Sci&Tech) wrt etest_p and mba_p \n",
    "\n",
    "Reject Null hypthoesis if Pvalue < 0.05%"
   ]
  },
  {
   "cell_type": "markdown",
   "id": "7e00baec",
   "metadata": {},
   "source": [
    "Since \"statistic is 4.53\" hence there is significant similarity  between degree_t(Sci&Tech) wrt etest_p and mba_p, the pvalue < 0.05% therefore (H0) Null Hypothesis rejected and Accept (H1) Alternate Hypotheis"
   ]
  },
  {
   "cell_type": "code",
   "execution_count": 224,
   "id": "5a545cb6",
   "metadata": {},
   "outputs": [
    {
     "data": {
      "text/plain": [
       "TtestResult(statistic=4.532000225151251, pvalue=1.4289217003775636e-05, df=116.0)"
      ]
     },
     "execution_count": 224,
     "metadata": {},
     "output_type": "execute_result"
    }
   ],
   "source": [
    "from scipy.stats import ttest_ind\n",
    "degree_t1 = dataset[dataset[\"degree_t\"] ==\"Sci&Tech\"] [\"etest_p\"]\n",
    "degree_t2 = dataset[dataset[\"degree_t\"] ==\"Sci&Tech\"] [\"mba_p\"]\n",
    "\n",
    "ttest_ind(degree_t1,degree_t2)"
   ]
  },
  {
   "cell_type": "markdown",
   "id": "598ca53e",
   "metadata": {},
   "source": [
    "### <font color = 'Red'> 12. Which parameter is highly correlated with salary? <font/>\n",
    "\n",
    "##### SSC_p is highly correlated with salary "
   ]
  },
  {
   "cell_type": "code",
   "execution_count": 225,
   "id": "cd02dde2",
   "metadata": {},
   "outputs": [
    {
     "data": {
      "text/html": [
       "<div>\n",
       "<style scoped>\n",
       "    .dataframe tbody tr th:only-of-type {\n",
       "        vertical-align: middle;\n",
       "    }\n",
       "\n",
       "    .dataframe tbody tr th {\n",
       "        vertical-align: top;\n",
       "    }\n",
       "\n",
       "    .dataframe thead th {\n",
       "        text-align: right;\n",
       "    }\n",
       "</style>\n",
       "<table border=\"1\" class=\"dataframe\">\n",
       "  <thead>\n",
       "    <tr style=\"text-align: right;\">\n",
       "      <th></th>\n",
       "      <th>ssc_p</th>\n",
       "      <th>hsc_p</th>\n",
       "      <th>degree_p</th>\n",
       "      <th>etest_p</th>\n",
       "      <th>mba_p</th>\n",
       "      <th>salary</th>\n",
       "    </tr>\n",
       "  </thead>\n",
       "  <tbody>\n",
       "    <tr>\n",
       "      <th>ssc_p</th>\n",
       "      <td>1.000000</td>\n",
       "      <td>0.513478</td>\n",
       "      <td>0.538686</td>\n",
       "      <td>0.261993</td>\n",
       "      <td>0.388478</td>\n",
       "      <td>0.558475</td>\n",
       "    </tr>\n",
       "    <tr>\n",
       "      <th>hsc_p</th>\n",
       "      <td>0.513478</td>\n",
       "      <td>1.000000</td>\n",
       "      <td>0.434606</td>\n",
       "      <td>0.240775</td>\n",
       "      <td>0.348452</td>\n",
       "      <td>0.459424</td>\n",
       "    </tr>\n",
       "    <tr>\n",
       "      <th>degree_p</th>\n",
       "      <td>0.538686</td>\n",
       "      <td>0.434606</td>\n",
       "      <td>1.000000</td>\n",
       "      <td>0.227147</td>\n",
       "      <td>0.402376</td>\n",
       "      <td>0.423762</td>\n",
       "    </tr>\n",
       "    <tr>\n",
       "      <th>etest_p</th>\n",
       "      <td>0.261993</td>\n",
       "      <td>0.240775</td>\n",
       "      <td>0.227147</td>\n",
       "      <td>1.000000</td>\n",
       "      <td>0.218055</td>\n",
       "      <td>0.186775</td>\n",
       "    </tr>\n",
       "    <tr>\n",
       "      <th>mba_p</th>\n",
       "      <td>0.388478</td>\n",
       "      <td>0.348452</td>\n",
       "      <td>0.402376</td>\n",
       "      <td>0.218055</td>\n",
       "      <td>1.000000</td>\n",
       "      <td>0.141417</td>\n",
       "    </tr>\n",
       "    <tr>\n",
       "      <th>salary</th>\n",
       "      <td>0.558475</td>\n",
       "      <td>0.459424</td>\n",
       "      <td>0.423762</td>\n",
       "      <td>0.186775</td>\n",
       "      <td>0.141417</td>\n",
       "      <td>1.000000</td>\n",
       "    </tr>\n",
       "  </tbody>\n",
       "</table>\n",
       "</div>"
      ],
      "text/plain": [
       "             ssc_p     hsc_p  degree_p   etest_p     mba_p    salary\n",
       "ssc_p     1.000000  0.513478  0.538686  0.261993  0.388478  0.558475\n",
       "hsc_p     0.513478  1.000000  0.434606  0.240775  0.348452  0.459424\n",
       "degree_p  0.538686  0.434606  1.000000  0.227147  0.402376  0.423762\n",
       "etest_p   0.261993  0.240775  0.227147  1.000000  0.218055  0.186775\n",
       "mba_p     0.388478  0.348452  0.402376  0.218055  1.000000  0.141417\n",
       "salary    0.558475  0.459424  0.423762  0.186775  0.141417  1.000000"
      ]
     },
     "execution_count": 225,
     "metadata": {},
     "output_type": "execute_result"
    }
   ],
   "source": [
    "dd = dataset[Quan].corr() \n",
    "dd"
   ]
  },
  {
   "cell_type": "markdown",
   "id": "ec1d9f7f",
   "metadata": {},
   "source": [
    "### <font color = 'Red'> 13. plot any useful graph and explain it <font/>"
   ]
  },
  {
   "cell_type": "markdown",
   "id": "1cbade98",
   "metadata": {},
   "source": [
    "#####                                                  Nearly 56% ssc_p correlation with Salary"
   ]
  },
  {
   "cell_type": "code",
   "execution_count": 226,
   "id": "51ea4287",
   "metadata": {},
   "outputs": [
    {
     "data": {
      "image/png": "[encoded data removed]",
      "text/plain": [
       "<Figure size 640x480 with 2 Axes>"
      ]
     },
     "metadata": {},
     "output_type": "display_data"
    }
   ],
   "source": [
    "import seaborn as sns\n",
    "import matplotlib.pyplot as pt \n",
    "heatmap = sns. heatmap(dd, annot = True)  \n",
    "heatmap.set (title = \"Correlation matrix of Student Placement dataset\\n\")  \n",
    "pt. show ()  "
   ]
  }
 ],
 "metadata": {
  "kernelspec": {
   "display_name": "Python 3 (ipykernel)",
   "language": "python",
   "name": "python3"
  },
  "language_info": {
   "codemirror_mode": {
    "name": "ipython",
    "version": 3
   },
   "file_extension": ".py",
   "mimetype": "text/x-python",
   "name": "python",
   "nbconvert_exporter": "python",
   "pygments_lexer": "ipython3",
   "version": "3.10.0"
  }
 },
 "nbformat": 4,
 "nbformat_minor": 5
}
